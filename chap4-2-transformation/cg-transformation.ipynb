{
 "cells": [
  {
   "cell_type": "markdown",
   "metadata": {},
   "source": [
    "# Homework on Transformation"
   ]
  },
  {
   "cell_type": "code",
   "execution_count": 13,
   "metadata": {},
   "outputs": [],
   "source": [
    "import numpy as np\n",
    "    \n",
    "# Function to get transformation matrix in 2D\n",
    "def translate2d(x, y):\n",
    "    return np.array([\n",
    "        [1, 0, x],\n",
    "        [0, 1, y],\n",
    "        [0, 0, 1]\n",
    "    ])\n",
    "\n",
    "def scale2d(x_scale, y_scale):\n",
    "    return np.array([\n",
    "        [x_scale, 0, 0],\n",
    "        [0, y_scale, 0],\n",
    "        [0, 0, 1]\n",
    "    ])\n",
    "\n",
    "def refect2d():\n",
    "    return scaling(-1, -1)\n",
    "\n",
    "def rotate2d(anrad):\n",
    "    return np.array([\n",
    "        [np.cos(anrad), -np.sin(anrad), 0],\n",
    "        [np.sin(anrad), np.cos(anrad), 0],\n",
    "        [0, 0, 1]\n",
    "    ])\n",
    "\n",
    "def rotate_in_degree2d(angle):\n",
    "    #Change the angle to radian\n",
    "    anrad = np.pi * angle / 180\n",
    "    return rotate2d(anrad)\n",
    "\n",
    "def shear2d(h=0, g=0):\n",
    "    return np.array([\n",
    "        [1, h, 0],\n",
    "        [g, 1, 0],\n",
    "        [0, 0, 1]\n",
    "    ])\n",
    "\n",
    "def homo2d(vector):\n",
    "    return np.array([[vector[0,0]],[vector[1,0]],[1]])\n",
    "\n",
    "def transformation2d(vector, *transformation):\n",
    "    M = transformation[0]\n",
    "    if len(transformation) > 1:\n",
    "        for i in range(1, len(transformation)):\n",
    "            M = M @ transformation[i]\n",
    "    return M @ homo2d(vector)"
   ]
  },
  {
   "cell_type": "code",
   "execution_count": 14,
   "metadata": {},
   "outputs": [
    {
     "data": {
      "text/plain": [
       "array([[4.23223305],\n",
       "       [1.76776695],\n",
       "       [1.        ]])"
      ]
     },
     "execution_count": 14,
     "metadata": {},
     "output_type": "execute_result"
    }
   ],
   "source": [
    "vector = np.array([[0], [5]])\n",
    "transformation2d(vector, translate2d(6,0), rotate_in_degree2d(45), scale2d(0.5, 0.5))"
   ]
  },
  {
   "cell_type": "code",
   "execution_count": 27,
   "metadata": {},
   "outputs": [],
   "source": [
    "# Function to get transformation matrix in 3D\n",
    "def translate3d(x, y, z):\n",
    "    return np.array([\n",
    "        [1, 0, 0, x],\n",
    "        [0, 1, 0, y],\n",
    "        [0, 0, 1, z],\n",
    "        [0, 0, 0, 1]\n",
    "    ])\n",
    "\n",
    "def scale3d(x_scale, y_scale, z_scale):\n",
    "    return np.array([\n",
    "        [x_scale, 0, 0, 0],\n",
    "        [0, y_scale, 0, 0],\n",
    "        [0, 0, z_scale, 0],\n",
    "        [0, 0, 0, 1]\n",
    "    ])\n",
    "\n",
    "def refect3d():\n",
    "    return scaling(-1, -1, -1)\n",
    "\n",
    "def rotate3d(angle, x, y, z):\n",
    "    anrad = np.pi * angle / 180\n",
    "    if z == 1.0 and x == 0.0 and y == 0.0:\n",
    "        return np.array([\n",
    "            [np.cos(anrad), -np.sin(anrad), 0, 0],\n",
    "            [np.sin(anrad), np.cos(anrad), 0, 0],\n",
    "            [0, 0, 1, 0],\n",
    "            [0, 0, 0, 1]\n",
    "        ])\n",
    "    elif x == 1.0 and y == 0.0 and z == 0.0:\n",
    "        return np.array([\n",
    "            [1,0,0,0],\n",
    "            [0,np.cos(anrad), -np.sin(anrad),0],\n",
    "            [0,np.sin(anrad), np.cos(anrad),0],\n",
    "            [0,0,0,1]\n",
    "        ])\n",
    "    elif x == 0.0 and y == 1.0 and z = 0.0:\n",
    "        return np.array([\n",
    "            [1,0,0,0],\n",
    "            []\n",
    "        ])\n",
    "\n",
    "def shear3d(a=0, b=0, c=0, d=0, e=0, f=0):\n",
    "    return np.array([\n",
    "        [1, a, b, 0],\n",
    "        [c, 1, d, 0],\n",
    "        [e, f, 1, 0],\n",
    "        [0, 0, 0, 1]\n",
    "    ])\n",
    "\n",
    "def identity3d():\n",
    "    return np.array([\n",
    "        [1,0,0,0],\n",
    "        [0,1,0,0],\n",
    "        [0,0,1,0],\n",
    "        [0,0,0,1]\n",
    "    ])\n",
    "\n",
    "def homo3d(vector):\n",
    "    return np.array([[vector[0,0]],[vector[1,0]],[vector[2,0]],[1]])\n",
    "\n",
    "def transformation3d(vector, *transformation):\n",
    "    M = transformation[0]\n",
    "    if len(transformation) > 1:\n",
    "        for i in range(1, len(transformation)):\n",
    "            M = M @ transformation[i]\n",
    "    return M @ homo3d(vector)\n",
    "\n",
    "def printTransMatrix(*trans):\n",
    "    M = trans[0]\n",
    "    if len(trans) > 1:\n",
    "        for i in range(1, len(trans)):\n",
    "            M = M @ trans[i]\n",
    "    return M"
   ]
  },
  {
   "cell_type": "code",
   "execution_count": 28,
   "metadata": {},
   "outputs": [
    {
     "name": "stdout",
     "output_type": "stream",
     "text": [
      "[[1 0 0 0]\n",
      " [0 1 0 0]\n",
      " [0 0 1 0]\n",
      " [0 0 0 1]]\n"
     ]
    }
   ],
   "source": [
    "C = np.array([[0], [5], [0], [1]])\n",
    "\n",
    "m1 = identity3d()\n",
    "print(m1)"
   ]
  },
  {
   "cell_type": "code",
   "execution_count": 29,
   "metadata": {},
   "outputs": [
    {
     "name": "stdout",
     "output_type": "stream",
     "text": [
      "[[1. 0. 0. 6.]\n",
      " [0. 1. 0. 0.]\n",
      " [0. 0. 1. 0.]\n",
      " [0. 0. 0. 1.]]\n"
     ]
    }
   ],
   "source": [
    "m2 = m1 @ translate3d(6.0, 0.0, 0.0)\n",
    "print(m2)"
   ]
  },
  {
   "cell_type": "code",
   "execution_count": 30,
   "metadata": {},
   "outputs": [
    {
     "name": "stdout",
     "output_type": "stream",
     "text": [
      "[[ 0.70710678 -0.70710678  0.          6.        ]\n",
      " [ 0.70710678  0.70710678  0.          0.        ]\n",
      " [ 0.          0.          1.          0.        ]\n",
      " [ 0.          0.          0.          1.        ]]\n"
     ]
    }
   ],
   "source": [
    "m3 = m2 @ rotate3d(45, 0.0, 0.0, 1.0)\n",
    "print(m3)"
   ]
  },
  {
   "cell_type": "code",
   "execution_count": 31,
   "metadata": {},
   "outputs": [
    {
     "name": "stdout",
     "output_type": "stream",
     "text": [
      "[[ 0.35355339 -0.35355339  0.          6.        ]\n",
      " [ 0.35355339  0.35355339  0.          0.        ]\n",
      " [ 0.          0.          1.          0.        ]\n",
      " [ 0.          0.          0.          1.        ]]\n"
     ]
    }
   ],
   "source": [
    "m4 = m3 @ scale3d(0.5, 0.5, 1.0)\n",
    "print(m4)"
   ]
  },
  {
   "cell_type": "code",
   "execution_count": null,
   "metadata": {},
   "outputs": [],
   "source": []
  }
 ],
 "metadata": {
  "kernelspec": {
   "display_name": "Python 3",
   "language": "python",
   "name": "python3"
  },
  "language_info": {
   "codemirror_mode": {
    "name": "ipython",
    "version": 3
   },
   "file_extension": ".py",
   "mimetype": "text/x-python",
   "name": "python",
   "nbconvert_exporter": "python",
   "pygments_lexer": "ipython3",
   "version": "3.8.5"
  }
 },
 "nbformat": 4,
 "nbformat_minor": 4
}
