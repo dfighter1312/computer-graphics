{
 "cells": [
  {
   "cell_type": "markdown",
   "id": "d7c4fcaa",
   "metadata": {},
   "source": [
    "## 0. Setting up"
   ]
  },
  {
   "cell_type": "code",
   "execution_count": 1,
   "id": "386d7b76",
   "metadata": {},
   "outputs": [],
   "source": [
    "import numpy as np\n",
    "import pandas as pd"
   ]
  },
  {
   "cell_type": "code",
   "execution_count": 2,
   "id": "97506763",
   "metadata": {},
   "outputs": [],
   "source": [
    "def normalize(a):\n",
    "    return a / np.linalg.norm(a)"
   ]
  },
  {
   "cell_type": "code",
   "execution_count": 3,
   "id": "df9dcae1",
   "metadata": {},
   "outputs": [
    {
     "data": {
      "text/plain": [
       "array([ 0.5       , -0.5       ,  0.70710678])"
      ]
     },
     "execution_count": 3,
     "metadata": {},
     "output_type": "execute_result"
    }
   ],
   "source": [
    "normalize(np.array([1, -1, np.sqrt(2)]))"
   ]
  },
  {
   "cell_type": "markdown",
   "id": "da0149af",
   "metadata": {},
   "source": [
    "## 1. Geometric modelling"
   ]
  },
  {
   "cell_type": "code",
   "execution_count": 4,
   "id": "e3264559",
   "metadata": {},
   "outputs": [
    {
     "name": "stdout",
     "output_type": "stream",
     "text": [
      "The middle point of A and B is:  [3.5 3.5]\n",
      "The point that takes (units) * d distance from A is:  [7.07106781 7.07106781]\n"
     ]
    }
   ],
   "source": [
    "# Input A, B coordinates\n",
    "A = np.array([0, 0])\n",
    "B = np.array([7, 7])\n",
    "\n",
    "# Input vector d\n",
    "d = np.array([2, 2])\n",
    "\n",
    "# Input unit\n",
    "unit = 10\n",
    "\n",
    "print(\"The middle point of A and B is: \", (A + B) / 2)\n",
    "print(\"The point that takes (units) * d distance from A is: \", A + unit * normalize(d))"
   ]
  },
  {
   "cell_type": "code",
   "execution_count": 5,
   "id": "e41469bf",
   "metadata": {},
   "outputs": [
    {
     "name": "stdout",
     "output_type": "stream",
     "text": [
      "Vector d:  [0.70710678 0.70710678]\n",
      "T0 = [0. 0.]\n",
      "T0_1 = [ 0.14142136 -0.14142136]\n",
      "T0_2 = [-0.14142136  0.14142136]\n",
      "T1 = [0.70710678 0.70710678]\n",
      "T1_1 = [0.84852814 0.56568542]\n",
      "T1_2 = [0.56568542 0.84852814]\n",
      "T2 = [1.41421356 1.41421356]\n",
      "T2_1 = [1.55563492 1.27279221]\n",
      "T2_2 = [1.27279221 1.55563492]\n",
      "T3 = [2.12132034 2.12132034]\n",
      "T3_1 = [2.2627417  1.97989899]\n",
      "T3_2 = [1.97989899 2.2627417 ]\n",
      "T4 = [2.82842712 2.82842712]\n",
      "T4_1 = [2.96984848 2.68700577]\n",
      "T4_2 = [2.68700577 2.96984848]\n",
      "T5 = [3.53553391 3.53553391]\n",
      "T5_1 = [3.67695526 3.39411255]\n",
      "T5_2 = [3.39411255 3.67695526]\n",
      "T6 = [4.24264069 4.24264069]\n",
      "T6_1 = [4.38406204 4.10121933]\n",
      "T6_2 = [4.10121933 4.38406204]\n",
      "T7 = [4.94974747 4.94974747]\n",
      "T7_1 = [5.09116882 4.80832611]\n",
      "T7_2 = [4.80832611 5.09116882]\n",
      "T8 = [5.65685425 5.65685425]\n",
      "T8_1 = [5.79827561 5.51543289]\n",
      "T8_2 = [5.51543289 5.79827561]\n",
      "T9 = [6.36396103 6.36396103]\n",
      "T9_1 = [6.50538239 6.22253967]\n",
      "T9_2 = [6.22253967 6.50538239]\n"
     ]
    }
   ],
   "source": [
    "# Input A, B coordinates\n",
    "A = np.array([0, 0])\n",
    "B = np.array([7, 7])\n",
    "\n",
    "# Input unit & delta\n",
    "unit = 10\n",
    "delta = 0.2\n",
    "\n",
    "d = normalize(B - A)\n",
    "print(\"Vector d: \", d)\n",
    "for i in range(unit):\n",
    "    print(f\"T{i} = {A + i*d}\")\n",
    "    print(f\"T{i}_{1} = {A + i*d + delta*np.array([d[1], -d[0]])}\")\n",
    "    print(f\"T{i}_{2} = {A + i*d - delta*np.array([d[1], -d[0]])}\")"
   ]
  },
  {
   "cell_type": "code",
   "execution_count": 6,
   "id": "0d75c687",
   "metadata": {},
   "outputs": [],
   "source": [
    "def perp(vector):\n",
    "    perp_vector = np.array([vector[1], -vector[0], 0])\n",
    "    assert np.dot(vector, perp_vector) == 0\n",
    "    return perp_vector\n",
    "\n",
    "def circumscribed_center(A, B, C, rotation=[0, 1, 2]):\n",
    "    print(\"Part 1: Find the circumscribed center of ABC\")\n",
    "    a = B - A\n",
    "    b = C - B\n",
    "    c = A - C\n",
    "    S = A + (a / 2) + (1/2) * (np.dot(c, b) / np.dot(c, perp(a))) * perp(a)\n",
    "    \n",
    "    print(\"Recheck: \")\n",
    "    SA = np.linalg.norm(A - S)\n",
    "    SB = np.linalg.norm(B - S)\n",
    "    SC = np.linalg.norm(C - S)\n",
    "    print(\"SA: \", np.linalg.norm(A - S))\n",
    "    print(\"SB: \", np.linalg.norm(B - S))\n",
    "    print(\"SC: \", np.linalg.norm(C - S))\n",
    "    assert SA == SB == SC\n",
    "    \n",
    "    print(\"It passed the test, so S\", S, \" is the center of circumscribed circle\\n\")\n",
    "    \n",
    "    print(\"Part 2: Find the vector passed S and perp to ABC, in order\\n\", pd.Series([\"A\", \"B\", \"C\"])[rotation].to_numpy())\n",
    "    vect = None\n",
    "    AB = B - A\n",
    "    AC = C - A\n",
    "    BA = A - B\n",
    "    BC = C - B\n",
    "    CA = A - C\n",
    "    CB = B - C\n",
    "    if rotation[0] == 0: # ABC or ACB\n",
    "        vect = np.cross(AB, AC)\n",
    "    if rotation[0] == 1: # BAC or BCA\n",
    "        vect = np.cross(BA, BC)\n",
    "    if rotation[0] == 2:\n",
    "        vect = np.cross(CA, CB)\n",
    "    print(\"Result vector (before normalized): \", vect)\n",
    "    print(\"Result vector (after normalized): \", normalize(vect))"
   ]
  },
  {
   "cell_type": "code",
   "execution_count": 7,
   "id": "1da4aaf4",
   "metadata": {},
   "outputs": [
    {
     "name": "stdout",
     "output_type": "stream",
     "text": [
      "Part 1: Find the circumscribed center of ABC\n",
      "Recheck: \n",
      "SA:  1.8027756377319946\n",
      "SB:  1.8027756377319946\n",
      "SC:  1.8027756377319946\n",
      "It passed the test, so S [3.5 2.  0. ]  is the center of circumscribed circle\n",
      "\n",
      "Part 2: Find the vector passed S and perp to ABC, in order\n",
      " ['A' 'B' 'C']\n",
      "Result vector (before normalized):  [0 0 6]\n",
      "Result vector (after normalized):  [0. 0. 1.]\n"
     ]
    }
   ],
   "source": [
    "# Input A, B and C\n",
    "A = np.array([2, 3, 0])\n",
    "B = np.array([2, 1, 0])\n",
    "C = np.array([5, 1, 0])\n",
    "\n",
    "circumscribed_center(A, B, C)"
   ]
  },
  {
   "cell_type": "markdown",
   "id": "640ce783",
   "metadata": {},
   "source": [
    "## 2. Graphic pipeline"
   ]
  },
  {
   "cell_type": "code",
   "execution_count": 8,
   "id": "0aa52264",
   "metadata": {},
   "outputs": [],
   "source": [
    "def translate(x, y, z=None):\n",
    "    if z is None:\n",
    "        return np.array([\n",
    "            [1, 0, x],\n",
    "            [0, 1, y],\n",
    "            [0, 0, 1]\n",
    "        ])\n",
    "    else:\n",
    "        return np.array([\n",
    "            [1, 0, 0, x],\n",
    "            [0, 1, 0, y],\n",
    "            [0, 0, 1, z],\n",
    "            [0, 0, 0, 1]\n",
    "        ])        "
   ]
  },
  {
   "cell_type": "code",
   "execution_count": 9,
   "id": "4953f1ac",
   "metadata": {},
   "outputs": [],
   "source": [
    "def rotate(theta, x=None, y=None, z=None):\n",
    "    t = theta * np.pi / 180.0\n",
    "    if x is None or y is None or z is None:\n",
    "        return np.array([\n",
    "            [np.cos(t), -np.sin(t), 0],\n",
    "            [np.sin(t),  np.cos(t), 0],\n",
    "            [0, 0, 1]\n",
    "        ])\n",
    "    elif x == 1 and y == 0 and z == 0:\n",
    "        return np.array([\n",
    "            [1, 0, 0, 0],\n",
    "            [0, np.cos(t), -np.sin(t), 0],\n",
    "            [0, np.sin(t),  np.cos(t), 0],\n",
    "            [0, 0, 0, 1]\n",
    "        ])\n",
    "    elif x == 0 and y == 1 and z == 0:\n",
    "        return np.array([\n",
    "            [np.cos(t), 0, np.sin(t), 0],\n",
    "            [0, 1, 0, 0],\n",
    "            [-np.sin(t), 0, np.cos(t), 0],\n",
    "            [0, 0, 0, 1]\n",
    "        ])\n",
    "    elif x == 0 and y == 0 and z == 1:\n",
    "        return np.array([\n",
    "            [np.cos(t), -np.sin(t), 0, 0],\n",
    "            [np.sin(t),  np.cos(t), 0, 0],\n",
    "            [0, 0, 1, 0],\n",
    "            [0, 0, 0, 1]\n",
    "        ])\n",
    "    else:\n",
    "        raise ValueError(f'Have you input the correct format of x, y, z? Received {(x, y, z)}')"
   ]
  },
  {
   "cell_type": "code",
   "execution_count": 10,
   "id": "cf0d94e0",
   "metadata": {},
   "outputs": [],
   "source": [
    "def scale(x, y, z=None):\n",
    "    if z is None:\n",
    "        return np.array([\n",
    "            [x, 0, 0],\n",
    "            [0, y, 0],\n",
    "            [0, 0, 1]\n",
    "        ])\n",
    "    else:\n",
    "        return np.array([\n",
    "            [x, 0, 0, 0],\n",
    "            [0, y, 0, 0],\n",
    "            [0, 0, z, 0],\n",
    "            [0, 0, 0, 1]\n",
    "        ])"
   ]
  },
  {
   "cell_type": "code",
   "execution_count": 46,
   "id": "fccf215d",
   "metadata": {},
   "outputs": [],
   "source": [
    "def lookAt(eye_x, eye_y, eye_z, look_x, look_y, look_z, up_x, up_y, up_z):\n",
    "    print(\"------LOOK AT-------\")\n",
    "    eye = np.array([eye_x, eye_y, eye_z])\n",
    "    look = np.array([look_x, look_y, look_z])\n",
    "    up = np.array([up_x, up_y, up_z])\n",
    "    \n",
    "    n = eye - look\n",
    "    print(\"Vector n: \", n)\n",
    "    n = normalize(n)\n",
    "    print(\"Vector n: \", n)\n",
    "    u = np.cross(up, n)\n",
    "    print(\"Vector u: \", u)\n",
    "    u = normalize(u)\n",
    "    print(\"Vector u: \", u)\n",
    "    v = np.cross(n, u)\n",
    "    print(\"Vector v: \", v)\n",
    "    v = normalize(v)\n",
    "    print(\"Vector v: \", v)\n",
    "    \n",
    "    print(\"Before normalization\")\n",
    "    \n",
    "    print(\"Vector u: \", u)\n",
    "    print(\"Vector v: \", v)\n",
    "    \n",
    "    n = normalize(n)\n",
    "    u = normalize(u)\n",
    "    v = normalize(v)\n",
    "    \n",
    "    print(\"After normalization\")\n",
    "    print(\"Vector n: \", n)\n",
    "    print(\"Vector u: \", u)\n",
    "    print(\"Vector v: \", v)\n",
    "    \n",
    "    d = np.array([\n",
    "        np.dot(-eye, u),\n",
    "        np.dot(-eye, v),\n",
    "        np.dot(-eye, n)\n",
    "    ])\n",
    "    \n",
    "    print(\"\\nVector d: \", d)\n",
    "    \n",
    "    return np.array([\n",
    "        [u[0], u[1], u[2], d[0]],\n",
    "        [v[0], v[1], v[2], d[1]],\n",
    "        [n[0], n[1], n[2], d[2]],\n",
    "        [0, 0, 0, 1]\n",
    "    ])"
   ]
  },
  {
   "cell_type": "code",
   "execution_count": 12,
   "id": "08a6dbe3",
   "metadata": {},
   "outputs": [],
   "source": [
    "def ortho(left, right, bottom, top, near, far):\n",
    "    return np.array([\n",
    "        [2/(right - left), 0, 0, -(right + left)/(right - left)],\n",
    "        [0, 2/(top - bottom), 0, -(top + bottom)/(top - bottom)],\n",
    "        [0, 0, 2/(near - far), -(far + near)/(far - near)],\n",
    "        [0, 0, 0, 1]\n",
    "    ])"
   ]
  },
  {
   "cell_type": "code",
   "execution_count": 13,
   "id": "697290f0",
   "metadata": {},
   "outputs": [],
   "source": [
    "def frustum(left, right, bottom, top, near, far):\n",
    "    return np.array([\n",
    "        [2*near/(right - left), 0, (right + left)/(right - left), 0],\n",
    "        [0, 2*near/(top - bottom), (top + bottom)/(top - bottom), 0],\n",
    "        [0, 0, -(far + near)/(far - near), -2*far*near/(far - near)],\n",
    "        [0, 0, -1, 0]\n",
    "    ])"
   ]
  },
  {
   "cell_type": "code",
   "execution_count": 14,
   "id": "9bb1c11f",
   "metadata": {},
   "outputs": [],
   "source": [
    "def identity(dimension=3):\n",
    "    if dimension == 3:\n",
    "        return np.array([\n",
    "            [1, 0, 0, 0],\n",
    "            [0, 1, 0, 0],\n",
    "            [0, 0, 1, 0],\n",
    "            [0, 0, 0, 1]\n",
    "        ])\n",
    "    elif dimension == 2:\n",
    "        return np.array([\n",
    "            [1, 0, 0],\n",
    "            [0, 1, 0],\n",
    "            [0, 0, 1]\n",
    "        ])"
   ]
  },
  {
   "cell_type": "code",
   "execution_count": 15,
   "id": "a1e3d674",
   "metadata": {},
   "outputs": [],
   "source": [
    "def matrix_mul(dimension=3, *matrix):\n",
    "    result = identity(dimension)\n",
    "    matrix = list(matrix)\n",
    "    matrix.reverse()\n",
    "    for m in matrix:\n",
    "        result = m @ result\n",
    "        print(\"Multiply with:\\n\", m, \"\\nto get\\n\", result)\n",
    "    return result"
   ]
  },
  {
   "cell_type": "code",
   "execution_count": 16,
   "id": "a44c2c99",
   "metadata": {},
   "outputs": [],
   "source": [
    "def transform_point(point, matrix):\n",
    "    print(matrix)\n",
    "    return matrix @ point\n",
    "\n",
    "def transform_vector(vector, matrix):\n",
    "    print(\"Transformed matrix: \\n\", np.linalg.inv(matrix).T)\n",
    "    return np.linalg.inv(matrix).T @ point"
   ]
  },
  {
   "cell_type": "code",
   "execution_count": 17,
   "id": "302ab745",
   "metadata": {},
   "outputs": [
    {
     "name": "stdout",
     "output_type": "stream",
     "text": [
      "Multiply with:\n",
      " [[2 0 0 0]\n",
      " [0 2 0 0]\n",
      " [0 0 2 0]\n",
      " [0 0 0 1]] \n",
      "to get\n",
      " [[2 0 0 0]\n",
      " [0 2 0 0]\n",
      " [0 0 2 0]\n",
      " [0 0 0 1]]\n",
      "[[2 0 0 0]\n",
      " [0 2 0 0]\n",
      " [0 0 2 0]\n",
      " [0 0 0 1]]\n"
     ]
    }
   ],
   "source": [
    "m = matrix_mul(3, scale(2,2,2))\n",
    "print(m)"
   ]
  },
  {
   "cell_type": "code",
   "execution_count": 18,
   "id": "95327546",
   "metadata": {},
   "outputs": [
    {
     "name": "stdout",
     "output_type": "stream",
     "text": [
      "[[2 0 0 0]\n",
      " [0 2 0 0]\n",
      " [0 0 2 0]\n",
      " [0 0 0 1]]\n"
     ]
    },
    {
     "data": {
      "text/plain": [
       "array([4, 6, 8, 1])"
      ]
     },
     "execution_count": 18,
     "metadata": {},
     "output_type": "execute_result"
    }
   ],
   "source": [
    "point = np.array([2, 3, 4, 1])\n",
    "transform_point(point, m)"
   ]
  },
  {
   "cell_type": "code",
   "execution_count": 19,
   "id": "f932ec38",
   "metadata": {},
   "outputs": [
    {
     "name": "stdout",
     "output_type": "stream",
     "text": [
      "[[2 0 0 0]\n",
      " [0 2 0 0]\n",
      " [0 0 2 0]\n",
      " [0 0 0 1]]\n"
     ]
    },
    {
     "data": {
      "text/plain": [
       "array([2, 4, 6, 1])"
      ]
     },
     "execution_count": 19,
     "metadata": {},
     "output_type": "execute_result"
    }
   ],
   "source": [
    "point = np.array([1, 2, 3, 1])\n",
    "transform_point(point, m)"
   ]
  },
  {
   "cell_type": "code",
   "execution_count": 20,
   "id": "8fb03186",
   "metadata": {},
   "outputs": [
    {
     "name": "stdout",
     "output_type": "stream",
     "text": [
      "Vector after normalized:  [0.57735027 0.57735027 0.57735027]\n",
      "Transformed matrix: \n",
      " [[0.5 0.  0.  0. ]\n",
      " [0.  0.5 0.  0. ]\n",
      " [0.  0.  0.5 0. ]\n",
      " [0.  0.  0.  1. ]]\n",
      "Result vector:  [0.5 1.  1.5]\n",
      "After re-normalized:  [0.26726124 0.53452248 0.80178373]\n"
     ]
    }
   ],
   "source": [
    "vector = np.array([1, 1, 1])\n",
    "vector = normalize(vector)\n",
    "print(\"Vector after normalized: \", vector)\n",
    "vector = transform_vector(vector, m)\n",
    "print(\"Result vector: \", vector[:3])\n",
    "print(\"After re-normalized: \", normalize(vector[:3]))"
   ]
  },
  {
   "cell_type": "code",
   "execution_count": 21,
   "id": "5e2bb182",
   "metadata": {},
   "outputs": [
    {
     "name": "stdout",
     "output_type": "stream",
     "text": [
      "------LOOK AT-------\n",
      "Before normalization\n",
      "Vector n:  [-5  0  5]\n",
      "Vector u:  [5 0 5]\n",
      "Vector v:  [ 0 50  0]\n",
      "After normalization\n",
      "Vector n:  [-0.70710678  0.          0.70710678]\n",
      "Vector u:  [0.70710678 0.         0.70710678]\n",
      "Vector v:  [0. 1. 0.]\n",
      "\n",
      "Vector d:  [ 0.          0.         -7.07106781]\n"
     ]
    },
    {
     "data": {
      "text/plain": [
       "array([[ 0.70710678,  0.        ,  0.70710678,  0.        ],\n",
       "       [ 0.        ,  1.        ,  0.        ,  0.        ],\n",
       "       [-0.70710678,  0.        ,  0.70710678, -7.07106781],\n",
       "       [ 0.        ,  0.        ,  0.        ,  1.        ]])"
      ]
     },
     "execution_count": 21,
     "metadata": {},
     "output_type": "execute_result"
    }
   ],
   "source": [
    "lookAt(-5, 0, 5, 0, 0, 0, 0, 1, 0)"
   ]
  },
  {
   "cell_type": "code",
   "execution_count": 22,
   "id": "f7ff5099",
   "metadata": {},
   "outputs": [
    {
     "data": {
      "text/plain": [
       "array([[  2.,   0.,   0.,  -5.],\n",
       "       [  0.,   2.,   0.,  -9.],\n",
       "       [  0.,   0.,  -2., -13.],\n",
       "       [  0.,   0.,   0.,   1.]])"
      ]
     },
     "execution_count": 22,
     "metadata": {},
     "output_type": "execute_result"
    }
   ],
   "source": [
    "ortho(2, 3, 4, 5, 6, 7)"
   ]
  },
  {
   "cell_type": "code",
   "execution_count": 23,
   "id": "e05d9949",
   "metadata": {},
   "outputs": [
    {
     "data": {
      "text/plain": [
       "array([[ 12.,   0.,   5.,   0.],\n",
       "       [  0.,  12.,   9.,   0.],\n",
       "       [  0.,   0., -13., -84.],\n",
       "       [  0.,   0.,  -1.,   0.]])"
      ]
     },
     "execution_count": 23,
     "metadata": {},
     "output_type": "execute_result"
    }
   ],
   "source": [
    "frustum(2, 3, 4, 5, 6, 7)"
   ]
  },
  {
   "cell_type": "code",
   "execution_count": 24,
   "id": "c6881ffe",
   "metadata": {},
   "outputs": [
    {
     "name": "stdout",
     "output_type": "stream",
     "text": [
      "Multiply with:\n",
      " [[ 1  0  0 -1]\n",
      " [ 0  1  0 -1]\n",
      " [ 0  0  1 -1]\n",
      " [ 0  0  0  1]] \n",
      "to get\n",
      " [[ 1  0  0 -1]\n",
      " [ 0  1  0 -1]\n",
      " [ 0  0  1 -1]\n",
      " [ 0  0  0  1]]\n",
      "Multiply with:\n",
      " [[1 0 0 2]\n",
      " [0 1 0 3]\n",
      " [0 0 1 4]\n",
      " [0 0 0 1]] \n",
      "to get\n",
      " [[1 0 0 1]\n",
      " [0 1 0 2]\n",
      " [0 0 1 3]\n",
      " [0 0 0 1]]\n"
     ]
    },
    {
     "data": {
      "text/plain": [
       "array([[1, 0, 0, 1],\n",
       "       [0, 1, 0, 2],\n",
       "       [0, 0, 1, 3],\n",
       "       [0, 0, 0, 1]])"
      ]
     },
     "execution_count": 24,
     "metadata": {},
     "output_type": "execute_result"
    }
   ],
   "source": [
    "matrix_mul(3, translate(2, 3, 4), translate(-1, -1, -1))"
   ]
  },
  {
   "cell_type": "code",
   "execution_count": 25,
   "id": "b643d0a5",
   "metadata": {},
   "outputs": [
    {
     "name": "stdout",
     "output_type": "stream",
     "text": [
      "Multiply with:\n",
      " [[1 0 0 2]\n",
      " [0 1 0 3]\n",
      " [0 0 1 4]\n",
      " [0 0 0 1]] \n",
      "to get\n",
      " [[1 0 0 2]\n",
      " [0 1 0 3]\n",
      " [0 0 1 4]\n",
      " [0 0 0 1]]\n",
      "Multiply with:\n",
      " [[ 0.70710678 -0.70710678  0.          0.        ]\n",
      " [ 0.70710678  0.70710678  0.          0.        ]\n",
      " [ 0.          0.          1.          0.        ]\n",
      " [ 0.          0.          0.          1.        ]] \n",
      "to get\n",
      " [[ 0.70710678 -0.70710678  0.         -0.70710678]\n",
      " [ 0.70710678  0.70710678  0.          3.53553391]\n",
      " [ 0.          0.          1.          4.        ]\n",
      " [ 0.          0.          0.          1.        ]]\n",
      "Multiply with:\n",
      " [[0.5 0.  0.  0. ]\n",
      " [0.  0.5 0.  0. ]\n",
      " [0.  0.  1.  0. ]\n",
      " [0.  0.  0.  1. ]] \n",
      "to get\n",
      " [[ 0.35355339 -0.35355339  0.         -0.35355339]\n",
      " [ 0.35355339  0.35355339  0.          1.76776695]\n",
      " [ 0.          0.          1.          4.        ]\n",
      " [ 0.          0.          0.          1.        ]]\n"
     ]
    },
    {
     "data": {
      "text/plain": [
       "array([[ 0.35355339, -0.35355339,  0.        , -0.35355339],\n",
       "       [ 0.35355339,  0.35355339,  0.        ,  1.76776695],\n",
       "       [ 0.        ,  0.        ,  1.        ,  4.        ],\n",
       "       [ 0.        ,  0.        ,  0.        ,  1.        ]])"
      ]
     },
     "execution_count": 25,
     "metadata": {},
     "output_type": "execute_result"
    }
   ],
   "source": [
    "matrix_mul(3, scale(0.5, 0.5, 1.0), rotate(45, 0, 0, 1), translate(2, 3, 4))"
   ]
  },
  {
   "cell_type": "markdown",
   "id": "0ba5af8f",
   "metadata": {},
   "source": [
    "## 3. Interpolation"
   ]
  },
  {
   "cell_type": "markdown",
   "id": "2e193577",
   "metadata": {},
   "source": [
    "### 3.1. Gouraud shading"
   ]
  },
  {
   "cell_type": "code",
   "execution_count": 26,
   "id": "a529417e",
   "metadata": {},
   "outputs": [],
   "source": [
    "def gouraud_shading(A, B, C, P, C_A, C_B, C_C):\n",
    "    AB = B - A\n",
    "    AC = C - A\n",
    "    PA = A - P\n",
    "    PB = B - P\n",
    "    PC = C - P\n",
    "    \n",
    "    S_ABC = np.linalg.norm(np.cross(AB, AC)) / 2\n",
    "    S_PAB = np.linalg.norm(np.cross(PA, PB)) / 2\n",
    "    S_PBC = np.linalg.norm(np.cross(PB, PC)) / 2\n",
    "    S_PCA = np.linalg.norm(np.cross(PC, PA)) / 2\n",
    "    \n",
    "    alpha_a = S_PBC / S_ABC\n",
    "    alpha_b = S_PCA / S_ABC\n",
    "    alpha_c = S_PAB / S_ABC\n",
    "    \n",
    "    assert np.isclose(S_PAB + S_PBC + S_PCA, S_ABC)\n",
    "    assert np.isclose(alpha_a + alpha_b + alpha_c, 1)\n",
    "    \n",
    "    C_P = alpha_a * C_A + alpha_b * C_B + alpha_c * C_C\n",
    "    \n",
    "    print(\"S_ABC: \", S_ABC)\n",
    "    print(\"S_PAB: \", S_PAB)\n",
    "    print(\"S_PBC: \", S_PBC)\n",
    "    print(\"S_PCA: \", S_PCA)\n",
    "    print(\"alphas: \", alpha_a, alpha_b, alpha_c)\n",
    "    print(\"C_P: \", C_P)\n",
    "    return C_P"
   ]
  },
  {
   "cell_type": "code",
   "execution_count": 27,
   "id": "e4983f06",
   "metadata": {},
   "outputs": [
    {
     "name": "stdout",
     "output_type": "stream",
     "text": [
      "S_ABC:  4.5\n",
      "S_PAB:  3.15\n",
      "S_PBC:  0.75\n",
      "S_PCA:  0.5999999999999999\n",
      "alphas:  0.16666666666666666 0.1333333333333333 0.7\n",
      "C_P:  [0.16666667 0.13333333 0.7       ]\n"
     ]
    },
    {
     "data": {
      "text/plain": [
       "array([0.16666667, 0.13333333, 0.7       ])"
      ]
     },
     "execution_count": 27,
     "metadata": {},
     "output_type": "execute_result"
    }
   ],
   "source": [
    "# Input A, B, C, P\n",
    "A = np.array([0, 3, 1])\n",
    "B = np.array([3, 0, 1])\n",
    "C = np.array([3, 3, 1])\n",
    "P = np.array([2.5, 2.6, 1])\n",
    "\n",
    "# Input C_A, C_B, C_C\n",
    "# Notes: red: [1,0,0], green: [0,1,0], blue: [0,0,1]\n",
    "C_A = np.array([1, 0, 0])\n",
    "C_B = np.array([0, 1, 0])\n",
    "C_C = np.array([0, 0, 1])\n",
    "\n",
    "gouraud_shading(A, B, C, P, C_A, C_B, C_C)"
   ]
  },
  {
   "cell_type": "markdown",
   "id": "bd47b83c",
   "metadata": {},
   "source": [
    "### 3.2. Phong's shading"
   ]
  },
  {
   "cell_type": "code",
   "execution_count": 28,
   "id": "71140b2a",
   "metadata": {},
   "outputs": [],
   "source": [
    "def interpol(A, B, C, P, n_A, n_B, n_C):\n",
    "    AB = B - A\n",
    "    AC = C - A\n",
    "    BA = A - B\n",
    "    BC = C - B\n",
    "    CA = A - C\n",
    "    CB = B - C\n",
    "    PA = A - P\n",
    "    PB = B - P\n",
    "    PC = C - P\n",
    "    \n",
    "#     n_A = np.cross(AB, AC)\n",
    "#     n_B = np.cross(BA, BC)\n",
    "#     n_C = np.cross(CA, CB)\n",
    "    \n",
    "    S_ABC = np.linalg.norm(np.cross(AB, AC)) / 2\n",
    "    S_PAB = np.linalg.norm(np.cross(PA, PB)) / 2\n",
    "    S_PBC = np.linalg.norm(np.cross(PB, PC)) / 2\n",
    "    S_PCA = np.linalg.norm(np.cross(PC, PA)) / 2\n",
    "    \n",
    "    alpha_a = S_PBC / S_ABC\n",
    "    alpha_b = S_PCA / S_ABC\n",
    "    alpha_c = S_PAB / S_ABC\n",
    "    \n",
    "    assert np.isclose(S_PAB + S_PBC + S_PCA, S_ABC)\n",
    "    assert np.isclose(alpha_a + alpha_b + alpha_c, 1)\n",
    "    \n",
    "    n_P = alpha_a * n_A + alpha_b * n_B + alpha_c * n_C\n",
    "    \n",
    "    print(\"n_A: \", n_A)\n",
    "    print(\"n_B: \", n_B)\n",
    "    print(\"n_C: \", n_C)\n",
    "    print(\"S_ABC: \", S_ABC)\n",
    "    print(\"S_PAB: \", S_PAB)\n",
    "    print(\"S_PBC: \", S_PBC)\n",
    "    print(\"S_PCA: \", S_PCA)\n",
    "    print(\"alphas: \", alpha_a, alpha_b, alpha_c)\n",
    "    print(\"n_P: \", n_P)\n",
    "    return n_P"
   ]
  },
  {
   "cell_type": "code",
   "execution_count": 29,
   "id": "2909e618",
   "metadata": {},
   "outputs": [],
   "source": [
    "def phong_shading(l, n, v, K, I, alpha):\n",
    "    \n",
    "    # Normalize all vectors\n",
    "    l = normalize(l)\n",
    "    n = normalize(n)\n",
    "    v = normalize(v)\n",
    "    \n",
    "    # Reflecting vector\n",
    "    r = normalize(2 * np.dot(l, n) * n - l)\n",
    "    \n",
    "    print(\"Vector l:\", l)\n",
    "    print(\"Vector n:\", n)\n",
    "    print(\"Vector v:\", v)\n",
    "    print(\"Vector r (before normalized): \", 2 * np.dot(l, n) * n - l)\n",
    "    print(\"Vector r (after normalized): \", r)\n",
    "    \n",
    "    g = np.array([\n",
    "        np.max(np.dot(l, n), 0),\n",
    "        np.power(np.max(np.dot(r, v), 0), alpha),\n",
    "        1\n",
    "    ])\n",
    "    print(\"Vector g: \", g)\n",
    "    print(\"K dot I:\\n\", np.multiply(K, I))\n",
    "    I = np.multiply(K, I) @ g\n",
    "    return I"
   ]
  },
  {
   "cell_type": "code",
   "execution_count": 30,
   "id": "2edebb69",
   "metadata": {},
   "outputs": [
    {
     "name": "stdout",
     "output_type": "stream",
     "text": [
      "n_A:  [2 4 5]\n",
      "n_B:  [2 3 4]\n",
      "n_C:  [2 1 3]\n",
      "S_ABC:  10.0\n",
      "S_PAB:  0.0\n",
      "S_PBC:  8.0\n",
      "S_PCA:  2.0\n",
      "alphas:  0.8 0.2 0.0\n",
      "n_P:  [2.  3.8 4.8]\n",
      "Vector l: [0.21821789 0.43643578 0.87287156]\n",
      "Vector n: [0.31053505 0.59001659 0.74528411]\n",
      "Vector v: [-0.40824829 -0.81649658 -0.40824829]\n",
      "Vector r (before normalized):  [0.38782601 0.71504763 0.5816338 ]\n",
      "Vector r (after normalized):  [0.38782601 0.71504763 0.5816338 ]\n",
      "Vector g:  [ 0.97580596 -0.94008102  1.        ]\n",
      "K dot I:\n",
      " [[0.2  0.25 0.2 ]\n",
      " [0.12 0.36 0.36]\n",
      " [0.7  0.8  0.9 ]]\n"
     ]
    },
    {
     "data": {
      "text/plain": [
       "array([0.16014094, 0.13866755, 0.83099935])"
      ]
     },
     "execution_count": 30,
     "metadata": {},
     "output_type": "execute_result"
    }
   ],
   "source": [
    "# Input l (to_light vector). l = light_position - P\n",
    "l = np.array([1, 2, 4])\n",
    "\n",
    "# Input n (normal vector to the surface)\n",
    "# Way 1: Input directly\n",
    "# n = np.array([3, -2, 3])\n",
    "\n",
    "# Way 2: Get through 3 points ABC and point P inside\n",
    "A = np.array([1, 0, 2])\n",
    "B = np.array([1, 5, 2])\n",
    "C = np.array([5, 10, 2])\n",
    "P = np.array([1, 1, 2])\n",
    "n_A = np.array([2, 4, 5])\n",
    "n_B = np.array([2, 3, 4])\n",
    "n_C = np.array([2, 1, 3])\n",
    "\n",
    "# Input v (to_viewer vector). v = -P\n",
    "v = np.array([-1, -2, -1])\n",
    "\n",
    "# Input alpha (shininess coefficient)\n",
    "alpha = 3\n",
    "\n",
    "K = np.array([\n",
    "    [0.4, 0.5, 0.4],\n",
    "    [0.2, 0.6, 0.6],\n",
    "    [0.7, 0.8, 0.9]\n",
    "])\n",
    "\n",
    "I = np.array([\n",
    "    [0.5, 0.5, 0.5],\n",
    "    [0.6, 0.6, 0.6],\n",
    "    [1, 1, 1]\n",
    "])\n",
    "\n",
    "n = interpol(A, B, C, P, n_A, n_B, n_C)\n",
    "phong_shading(l, n, v, K, I, alpha)"
   ]
  },
  {
   "cell_type": "code",
   "execution_count": 31,
   "id": "c308ca0f",
   "metadata": {},
   "outputs": [],
   "source": [
    "A = np.array([-3, 0, -1])\n",
    "B = np.array([1, 3, 4])\n",
    "C = np.array([3, 3, -3])"
   ]
  },
  {
   "cell_type": "code",
   "execution_count": 35,
   "id": "0ef25bcc",
   "metadata": {},
   "outputs": [
    {
     "data": {
      "text/plain": [
       "array([-0.47913248,  0.86700163, -0.13689499])"
      ]
     },
     "execution_count": 35,
     "metadata": {},
     "output_type": "execute_result"
    }
   ],
   "source": [
    "n_ABC = normalize(np.cross(B-A, C-A))\n",
    "n_ABC"
   ]
  },
  {
   "cell_type": "code",
   "execution_count": 38,
   "id": "cb41a75b",
   "metadata": {},
   "outputs": [
    {
     "data": {
      "text/plain": [
       "array([-5.3956624 ,  4.33500815, -1.68447497])"
      ]
     },
     "execution_count": 38,
     "metadata": {},
     "output_type": "execute_result"
    }
   ],
   "source": [
    "D = A + 5 * n_ABC\n",
    "D"
   ]
  },
  {
   "cell_type": "code",
   "execution_count": 39,
   "id": "2c725a62",
   "metadata": {},
   "outputs": [
    {
     "data": {
      "text/plain": [
       "5.0"
      ]
     },
     "execution_count": 39,
     "metadata": {},
     "output_type": "execute_result"
    }
   ],
   "source": [
    "np.linalg.norm(D - A)"
   ]
  },
  {
   "cell_type": "code",
   "execution_count": 41,
   "id": "0aecd2fa",
   "metadata": {},
   "outputs": [
    {
     "data": {
      "text/plain": [
       "array([ 1.7913248 , -8.6700163 ,  0.36894994])"
      ]
     },
     "execution_count": 41,
     "metadata": {},
     "output_type": "execute_result"
    }
   ],
   "source": [
    "P = A + 10 * (-n_ABC)\n",
    "P"
   ]
  },
  {
   "cell_type": "code",
   "execution_count": 48,
   "id": "b2cae692",
   "metadata": {},
   "outputs": [
    {
     "name": "stdout",
     "output_type": "stream",
     "text": [
      "[ 1.7913248  -8.6700163   0.36894994] [1 3 4] [0 1 0]\n",
      "------LOOK AT-------\n",
      "Vector n:  [  0.7913248  -11.6700163   -3.63105006]\n",
      "Vector n:  [ 0.0646114  -0.95285284 -0.296474  ]\n",
      "Vector u:  [-0.296474   0.        -0.0646114]\n",
      "Vector u:  [-0.97706641  0.         -0.21293479]\n",
      "Vector v:  [ 0.20289552  0.3034328  -0.93100051]\n",
      "Vector v:  [ 0.20289552  0.3034328  -0.93100051]\n",
      "Before normalization\n",
      "Vector u:  [-0.97706641  0.         -0.21293479]\n",
      "Vector v:  [ 0.20289552  0.3034328  -0.93100051]\n",
      "After normalization\n",
      "Vector n:  [ 0.0646114  -0.95285284 -0.296474  ]\n",
      "Vector u:  [-0.97706641  0.         -0.21293479]\n",
      "Vector v:  [ 0.20289552  0.3034328  -0.93100051]\n",
      "\n",
      "Vector d:  [ 1.82880558  2.61080811 -8.26760561]\n"
     ]
    },
    {
     "data": {
      "text/plain": [
       "array([[-0.97706641,  0.        , -0.21293479,  1.82880558],\n",
       "       [ 0.20289552,  0.3034328 , -0.93100051,  2.61080811],\n",
       "       [ 0.0646114 , -0.95285284, -0.296474  , -8.26760561],\n",
       "       [ 0.        ,  0.        ,  0.        ,  1.        ]])"
      ]
     },
     "execution_count": 48,
     "metadata": {},
     "output_type": "execute_result"
    }
   ],
   "source": [
    "eye = P\n",
    "look = B\n",
    "up = np.array([0,1,0])\n",
    "print(eye, look, up)\n",
    "m_view = lookAt(eye[0], eye[1], eye[2], look[0], look[1], look[2], 0, 1, 0)\n",
    "m_view"
   ]
  },
  {
   "cell_type": "code",
   "execution_count": 58,
   "id": "0f4768c9",
   "metadata": {},
   "outputs": [
    {
     "data": {
      "text/plain": [
       "array([ 4.9729396 ,  2.93312206, -8.16496581,  1.        ])"
      ]
     },
     "execution_count": 58,
     "metadata": {},
     "output_type": "execute_result"
    }
   ],
   "source": [
    "A_C = m_view @ np.append(A, [1])\n",
    "A_C"
   ]
  },
  {
   "cell_type": "code",
   "execution_count": 59,
   "id": "ed3a8ff8",
   "metadata": {},
   "outputs": [
    {
     "data": {
      "text/plain": [
       "array([-1.11022302e-16,  2.22044605e-16, -1.22474487e+01,  1.00000000e+00])"
      ]
     },
     "execution_count": 59,
     "metadata": {},
     "output_type": "execute_result"
    }
   ],
   "source": [
    "B_C = m_view @ np.append(B, [1])\n",
    "B_C"
   ]
  },
  {
   "cell_type": "code",
   "execution_count": 60,
   "id": "8680bc6d",
   "metadata": {},
   "outputs": [
    {
     "data": {
      "text/plain": [
       "array([1, 3, 4])"
      ]
     },
     "execution_count": 60,
     "metadata": {},
     "output_type": "execute_result"
    }
   ],
   "source": [
    "B"
   ]
  },
  {
   "cell_type": "code",
   "execution_count": 61,
   "id": "f6be6665",
   "metadata": {},
   "outputs": [
    {
     "data": {
      "text/plain": [
       "-12.2474487"
      ]
     },
     "execution_count": 61,
     "metadata": {},
     "output_type": "execute_result"
    }
   ],
   "source": [
    " -1.22474487e+01"
   ]
  },
  {
   "cell_type": "code",
   "execution_count": 62,
   "id": "02953134",
   "metadata": {},
   "outputs": [
    {
     "data": {
      "text/plain": [
       "array([ -0.46358929,   6.92279459, -10.04290795,   1.        ])"
      ]
     },
     "execution_count": 62,
     "metadata": {},
     "output_type": "execute_result"
    }
   ],
   "source": [
    "C_C = m_view @ np.append(C, [1])\n",
    "C_C"
   ]
  },
  {
   "cell_type": "code",
   "execution_count": 63,
   "id": "aa837060",
   "metadata": {},
   "outputs": [
    {
     "data": {
      "text/plain": [
       "array([2. , 3. , 0.5])"
      ]
     },
     "execution_count": 63,
     "metadata": {},
     "output_type": "execute_result"
    }
   ],
   "source": [
    "P = (B+C)/2\n",
    "P"
   ]
  },
  {
   "cell_type": "code",
   "execution_count": 64,
   "id": "2dbac01c",
   "metadata": {},
   "outputs": [
    {
     "data": {
      "text/plain": [
       "array([-0.5 ,  1.5 , -0.25])"
      ]
     },
     "execution_count": 64,
     "metadata": {},
     "output_type": "execute_result"
    }
   ],
   "source": [
    "Q = (A+P)/2\n",
    "Q"
   ]
  },
  {
   "cell_type": "code",
   "execution_count": 66,
   "id": "a57c2c27",
   "metadata": {},
   "outputs": [
    {
     "data": {
      "text/plain": [
       "array([ 2.37057248,  3.19725968, -9.65507207,  1.        ])"
      ]
     },
     "execution_count": 66,
     "metadata": {},
     "output_type": "execute_result"
    }
   ],
   "source": [
    "# Way 1\n",
    "Q_C = m_view @ np.append(Q, [1])\n",
    "Q_C"
   ]
  },
  {
   "cell_type": "code",
   "execution_count": 68,
   "id": "6ac95416",
   "metadata": {},
   "outputs": [
    {
     "data": {
      "text/plain": [
       "(array([ -0.23179465,   3.4613973 , -11.14517833,   1.        ]),\n",
       " array([-1.11022302e-16,  2.22044605e-16, -1.22474487e+01,  1.00000000e+00]),\n",
       " array([ -0.46358929,   6.92279459, -10.04290795,   1.        ]))"
      ]
     },
     "execution_count": 68,
     "metadata": {},
     "output_type": "execute_result"
    }
   ],
   "source": [
    "P_C = (B_C + C_C) / 2\n",
    "P_C, B_C, C_C"
   ]
  },
  {
   "cell_type": "code",
   "execution_count": 70,
   "id": "03782c10",
   "metadata": {},
   "outputs": [
    {
     "data": {
      "text/plain": [
       "array([ 2.37057248,  3.19725968, -9.65507207,  1.        ])"
      ]
     },
     "execution_count": 70,
     "metadata": {},
     "output_type": "execute_result"
    }
   ],
   "source": [
    "Q_C = (A_C + P_C) / 2\n",
    "Q_C"
   ]
  },
  {
   "cell_type": "code",
   "execution_count": 72,
   "id": "415e39dd",
   "metadata": {},
   "outputs": [
    {
     "data": {
      "text/plain": [
       "array([ 1.7913248 , -8.6700163 ,  0.36894994])"
      ]
     },
     "execution_count": 72,
     "metadata": {},
     "output_type": "execute_result"
    }
   ],
   "source": [
    "P_eye = A + 10 * (-n_ABC)\n",
    "P_eye"
   ]
  },
  {
   "cell_type": "code",
   "execution_count": 74,
   "id": "3a29c5e1",
   "metadata": {},
   "outputs": [],
   "source": [
    "P_lightsource = np.array([10, 10, 10])"
   ]
  },
  {
   "cell_type": "code",
   "execution_count": 101,
   "id": "ce1ac460",
   "metadata": {},
   "outputs": [
    {
     "data": {
      "text/plain": [
       "(array([ 2.37057248,  3.19725968, -9.65507207,  1.        ]),\n",
       " array([ 7.62942752,  6.80274032, 19.65507207]))"
      ]
     },
     "execution_count": 101,
     "metadata": {},
     "output_type": "execute_result"
    }
   ],
   "source": [
    "l = P_lightsource - Q_C[:3]\n",
    "Q_C, l"
   ]
  },
  {
   "cell_type": "code",
   "execution_count": 78,
   "id": "b024b364",
   "metadata": {},
   "outputs": [
    {
     "data": {
      "text/plain": [
       "array([0.36394719, 0.82777059, 0.42701088])"
      ]
     },
     "execution_count": 78,
     "metadata": {},
     "output_type": "execute_result"
    }
   ],
   "source": [
    "normalize(l)"
   ]
  },
  {
   "cell_type": "code",
   "execution_count": 87,
   "id": "f03de8d6",
   "metadata": {},
   "outputs": [
    {
     "data": {
      "text/plain": [
       "array([[-0.898,  0.   ,  0.439,  0.   ],\n",
       "       [-0.399,  0.419, -0.816,  0.   ],\n",
       "       [-0.184, -0.908, -0.376,  0.   ],\n",
       "       [-1.191, -9.821, -0.483,  1.   ]])"
      ]
     },
     "execution_count": 87,
     "metadata": {},
     "output_type": "execute_result"
    }
   ],
   "source": [
    "n_A = np.array([-0.585, -0.792, -0.174])\n",
    "n_B = np.array([-0.333, -0.170, 0.927])\n",
    "n_C = np.array([0.224, -0.165, -0.960])\n",
    "\n",
    "M = np.array([[ -0.898, 0.000, 0.439, 0.000],\n",
    " [ -0.399, 0.419, -0.816, 0.000],\n",
    " [ -0.184, -0.908, -0.376, 0.000],\n",
    " [ -1.191, -9.821, -0.483, 1.000]]\n",
    ")\n",
    "M"
   ]
  },
  {
   "cell_type": "code",
   "execution_count": 89,
   "id": "0f21479e",
   "metadata": {},
   "outputs": [
    {
     "data": {
      "text/plain": [
       "(array([0.448944, 0.043551, 0.8922  , 9.559009]),\n",
       " array([ 0.705987, -0.694795, -0.13292 ,  2.618432]),\n",
       " array([-0.622592,  0.624849,  0.469564,  2.817361]))"
      ]
     },
     "execution_count": 89,
     "metadata": {},
     "output_type": "execute_result"
    }
   ],
   "source": [
    "n_A = M @ np.append(n_A, [1])\n",
    "n_B = M @ np.append(n_B, [1])\n",
    "n_C = M @ np.append(n_C, [1])\n",
    "n_A, n_B, n_C"
   ]
  },
  {
   "cell_type": "code",
   "execution_count": 91,
   "id": "ec0810b0",
   "metadata": {},
   "outputs": [
    {
     "data": {
      "text/plain": [
       "(array([0.04696554, 0.00455602, 0.09333604, 1.        ]),\n",
       " array([ 0.26962205, -0.26534773, -0.0507632 ,  1.        ]),\n",
       " array([-0.22098411,  0.22178521,  0.16666803,  1.        ]))"
      ]
     },
     "execution_count": 91,
     "metadata": {},
     "output_type": "execute_result"
    }
   ],
   "source": [
    "n_A = n_A / n_A[3]\n",
    "n_B = n_B / n_B[3]\n",
    "n_C = n_C / n_C[3]\n",
    "n_A, n_B, n_C"
   ]
  },
  {
   "cell_type": "code",
   "execution_count": 93,
   "id": "c4db9cc2",
   "metadata": {},
   "outputs": [
    {
     "data": {
      "text/plain": [
       "(array([0.44906341, 0.04356258, 0.89243731]),\n",
       " array([ 0.70640197, -0.69520339, -0.13299813]),\n",
       " array([-0.62304468,  0.62530332,  0.46990541]))"
      ]
     },
     "execution_count": 93,
     "metadata": {},
     "output_type": "execute_result"
    }
   ],
   "source": [
    "n_A = normalize(n_A[:3])\n",
    "n_B = normalize(n_B[:3])\n",
    "n_C = normalize(n_C[:3])\n",
    "n_A, n_B, n_C"
   ]
  },
  {
   "cell_type": "code",
   "execution_count": 98,
   "id": "64b587de",
   "metadata": {},
   "outputs": [
    {
     "name": "stdout",
     "output_type": "stream",
     "text": [
      "n_A:  [0.44906341 0.04356258 0.89243731]\n",
      "n_B:  [ 0.70640197 -0.69520339 -0.13299813]\n",
      "n_C:  [-0.62304468  0.62530332  0.46990541]\n",
      "S_ABC:  21.914607000811127\n",
      "S_PAB:  5.478651750202781\n",
      "S_PBC:  10.95730350040556\n",
      "S_PCA:  5.4786517502027845\n",
      "alphas:  0.49999999999999983 0.2500000000000001 0.24999999999999997\n",
      "n_P:  [0.24537103 0.00430627 0.53044548]\n"
     ]
    },
    {
     "data": {
      "text/plain": [
       "array([0.24537103, 0.00430627, 0.53044548])"
      ]
     },
     "execution_count": 98,
     "metadata": {},
     "output_type": "execute_result"
    }
   ],
   "source": [
    "n_P = interpol(A[:3], B[:3], C[:3], Q[:3], n_A, n_B, n_C)\n",
    "n_P"
   ]
  },
  {
   "cell_type": "code",
   "execution_count": 96,
   "id": "d48ada79",
   "metadata": {},
   "outputs": [
    {
     "data": {
      "text/plain": [
       "array([ 2.37057248,  3.19725968, -9.65507207])"
      ]
     },
     "execution_count": 96,
     "metadata": {},
     "output_type": "execute_result"
    }
   ],
   "source": [
    "Q_C[:3]"
   ]
  },
  {
   "cell_type": "code",
   "execution_count": 103,
   "id": "231b8e09",
   "metadata": {},
   "outputs": [
    {
     "data": {
      "text/plain": [
       "array([0.41982249, 0.0073679 , 0.90757633])"
      ]
     },
     "execution_count": 103,
     "metadata": {},
     "output_type": "execute_result"
    }
   ],
   "source": [
    "n_P = normalize(n_P)\n",
    "n_P"
   ]
  },
  {
   "cell_type": "code",
   "execution_count": null,
   "id": "85812f18",
   "metadata": {},
   "outputs": [],
   "source": [
    "K = np.array([\n",
    "    [0.6, 0.8, 0.8],\n",
    "    [1,0, 0.8, 0.4],\n",
    "    [0.6, 0.8, 0.2]\n",
    "])\n",
    "\n",
    "I = np.array([\n",
    "    [1, 0.4, 1],\n",
    "    [1, 0.4, 1],\n",
    "    [1, 0.4, 1]\n",
    "])\n",
    "\n",
    "phong_shading()"
   ]
  }
 ],
 "metadata": {
  "kernelspec": {
   "display_name": "Python 3",
   "language": "python",
   "name": "python3"
  },
  "language_info": {
   "codemirror_mode": {
    "name": "ipython",
    "version": 3
   },
   "file_extension": ".py",
   "mimetype": "text/x-python",
   "name": "python",
   "nbconvert_exporter": "python",
   "pygments_lexer": "ipython3",
   "version": "3.8.8"
  }
 },
 "nbformat": 4,
 "nbformat_minor": 5
}
